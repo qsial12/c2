{
  "metadata": {
    "kernelspec": {
      "name": "python",
      "display_name": "Python (Pyodide)",
      "language": "python"
    },
    "language_info": {
      "codemirror_mode": {
        "name": "python",
        "version": 3
      },
      "file_extension": ".py",
      "mimetype": "text/x-python",
      "name": "python",
      "nbconvert_exporter": "python",
      "pygments_lexer": "ipython3",
      "version": "3.8"
    }
  },
  "nbformat_minor": 5,
  "nbformat": 4,
  "cells": [
    {
      "cell_type": "markdown",
      "source": "# My Jupyter Notebook on IBM Watson Studio\n**Qanita**\n\nThinker\n\n*I am interested in data science because its fun*\n\n### the code adds two numbers\n\n ",
      "metadata": {},
      "id": "7f6a0021-142a-4a24-ae58-5fc0f20d460d"
    },
    {
      "cell_type": "code",
      "source": "1+1",
      "metadata": {
        "trusted": true
      },
      "execution_count": 4,
      "outputs": [
        {
          "execution_count": 4,
          "output_type": "execute_result",
          "data": {
            "text/plain": "2"
          },
          "metadata": {}
        }
      ],
      "id": "5922bd46-1206-4531-b5c3-ab8860bc40b6"
    },
    {
      "cell_type": "markdown",
      "source": "***\n\n- [**`Google`**](https://en.wikipedia.org/wiki/Goole) is awesome .\n- [**`Facebook`**](https://en.wikipedia.org/wiki/facebook) is ok.",
      "metadata": {},
      "id": "b9670d85-ef29-4dfd-b4b5-e76d279c1f1a"
    }
  ]
}